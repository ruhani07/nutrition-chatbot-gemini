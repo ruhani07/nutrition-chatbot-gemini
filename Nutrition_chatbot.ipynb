{
  "nbformat": 4,
  "nbformat_minor": 0,
  "metadata": {
    "colab": {
      "provenance": []
    },
    "kernelspec": {
      "name": "python3",
      "display_name": "Python 3"
    },
    "language_info": {
      "name": "python"
    }
  },
  "cells": [
    {
      "cell_type": "code",
      "source": [
        "# Install required packages\n",
        "!pip install -q google-generativeai gradio\n",
        "\n",
        "# Import necessary libraries\n",
        "import google.generativeai as gemini\n",
        "import gradio as gr\n",
        "\n",
        "# Set your API key\n",
        "api_key = \"YOUR_API_KEY_HERE\"  # Replace with your actual API key\n",
        "\n",
        "# Configure Gemini API\n",
        "gemini.configure(api_key=api_key)\n",
        "\n",
        "# Initialize the Gemini model\n",
        "model = gemini.GenerativeModel(\"gemini-2.0-flash\")\n",
        "\n",
        "# Start a persistent chat session\n",
        "chat = model.start_chat(\n",
        "    history=[\n",
        "        {\"role\": \"user\", \"parts\": \"Hi, I want to know about healthy food choices.\"},\n",
        "        {\"role\": \"model\", \"parts\": \"Sure! Tell me what you usually eat or what you're looking for.\"},\n",
        "    ]\n",
        ")\n",
        "\n",
        "# Define nutrition-related keywords\n",
        "nutrition_keywords = [\n",
        "    \"diet\", \"nutrition\", \"nutrient\", \"vitamin\", \"protein\", \"carbohydrate\", \"fat\",\n",
        "    \"healthy\", \"food\", \"meal\", \"snack\", \"calories\", \"eat\", \"drink\", \"fiber\", \"hydration\",\n",
        "    \"fruit\", \"vegetable\", \"oats\", \"breakfast\", \"lunch\", \"dinner\", \"supplement\"\n",
        "]\n",
        "\n",
        "# Function to check if the question is related to nutrition\n",
        "def is_nutrition_question(prompt):\n",
        "    prompt_lower = prompt.lower()\n",
        "    return any(keyword in prompt_lower for keyword in nutrition_keywords)\n",
        "\n",
        "# Function to respond to user input\n",
        "def chatbot_response(user_input):\n",
        "    if is_nutrition_question(user_input):\n",
        "        response = chat.send_message(user_input)\n",
        "        return response.text\n",
        "    else:\n",
        "        return \"❌ The question is irrelevant. Please ask about nutrition, diet, or healthy food.\"\n",
        "\n",
        "# Create a Gradio interface\n",
        "with gr.Blocks() as demo:\n",
        "    gr.Markdown(\"## 🥗 Nutrition-Based Chatbot\")\n",
        "    gr.Markdown(\"Ask about healthy foods, meal suggestions, or product recommendations!\")\n",
        "\n",
        "    with gr.Row():\n",
        "        with gr.Column():\n",
        "            user_input = gr.Textbox(label=\"Your Question\", placeholder=\"e.g. What should I eat for protein?\")\n",
        "            send_btn = gr.Button(\"Ask\")\n",
        "\n",
        "        with gr.Column():\n",
        "            chatbot_output = gr.Textbox(label=\"Chatbot Response\", lines=10)\n",
        "\n",
        "    send_btn.click(fn=chatbot_response, inputs=user_input, outputs=chatbot_output)\n",
        "\n",
        "# Launch the Gradio app\n",
        "demo.launch()\n"
      ],
      "metadata": {
        "colab": {
          "base_uri": "https://localhost:8080/",
          "height": 650
        },
        "id": "BqZzSQoikpWp",
        "outputId": "b7876cf2-c0a9-4cf3-f1dc-026f35fe09e6"
      },
      "execution_count": 2,
      "outputs": [
        {
          "output_type": "stream",
          "name": "stdout",
          "text": [
            "It looks like you are running Gradio on a hosted a Jupyter notebook. For the Gradio app to work, sharing must be enabled. Automatically setting `share=True` (you can turn this off by setting `share=False` in `launch()` explicitly).\n",
            "\n",
            "Colab notebook detected. To show errors in colab notebook, set debug=True in launch()\n",
            "* Running on public URL: https://7104f1fd033cdea8d2.gradio.live\n",
            "\n",
            "This share link expires in 1 week. For free permanent hosting and GPU upgrades, run `gradio deploy` from the terminal in the working directory to deploy to Hugging Face Spaces (https://huggingface.co/spaces)\n"
          ]
        },
        {
          "output_type": "display_data",
          "data": {
            "text/plain": [
              "<IPython.core.display.HTML object>"
            ],
            "text/html": [
              "<div><iframe src=\"https://7104f1fd033cdea8d2.gradio.live\" width=\"100%\" height=\"500\" allow=\"autoplay; camera; microphone; clipboard-read; clipboard-write;\" frameborder=\"0\" allowfullscreen></iframe></div>"
            ]
          },
          "metadata": {}
        },
        {
          "output_type": "execute_result",
          "data": {
            "text/plain": []
          },
          "metadata": {},
          "execution_count": 2
        }
      ]
    },
    {
      "cell_type": "code",
      "source": [],
      "metadata": {
        "id": "ReBel7nxlg4Y"
      },
      "execution_count": null,
      "outputs": []
    }
  ]
}